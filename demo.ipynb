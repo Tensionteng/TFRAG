{
 "cells": [
  {
   "cell_type": "code",
   "execution_count": 7,
   "metadata": {},
   "outputs": [],
   "source": [
    "import torch\n",
    "import torch.nn as nn\n",
    "import numpy as np\n",
    "\n",
    "x = torch.randn(32, 96, 7)  # (batch_size, seq_len, feature_dim)\n",
    "y = torch.randn(32, 96, 7)  # (batch_size, seq_len, feature_dim)\n",
    "\n",
    "x_max = torch.max(x, dim=1)[0]\n",
    "y_max = torch.max(y, dim=1)[0]\n"
   ]
  },
  {
   "cell_type": "code",
   "execution_count": 10,
   "metadata": {},
   "outputs": [
    {
     "name": "stdout",
     "output_type": "stream",
     "text": [
      "torch.Size([32, 7])\n",
      "tensor(0.4581)\n"
     ]
    }
   ],
   "source": [
    "diff = torch.abs(x_max - y_max)\n",
    "print(diff.shape)\n",
    "\n",
    "mean = torch.mean(diff)\n",
    "print(mean)"
   ]
  },
  {
   "cell_type": "code",
   "execution_count": 3,
   "metadata": {},
   "outputs": [
    {
     "data": {
      "text/plain": [
       "array([ 2.23606798, -0.4472136 , -0.4472136 , -0.4472136 , -0.4472136 ,\n",
       "       -0.4472136 ])"
      ]
     },
     "execution_count": 3,
     "metadata": {},
     "output_type": "execute_result"
    }
   ],
   "source": [
    "import numpy as np\n",
    "\n",
    "# 原始数据\n",
    "x = np.array([1, 0, 0, 0, 0, 0])\n",
    "\n",
    "# 计算均值和标准差\n",
    "mean = x.mean()  # 0.16666666666666666\n",
    "std = x.std(ddof=0)  # 0.37267799624996495 （总体标准差）\n",
    "\n",
    "# 标准差归一化\n",
    "normalized = (x - mean) / std\n",
    "\n",
    "normalized"
   ]
  }
 ],
 "metadata": {
  "kernelspec": {
   "display_name": "graph",
   "language": "python",
   "name": "python3"
  },
  "language_info": {
   "codemirror_mode": {
    "name": "ipython",
    "version": 3
   },
   "file_extension": ".py",
   "mimetype": "text/x-python",
   "name": "python",
   "nbconvert_exporter": "python",
   "pygments_lexer": "ipython3",
   "version": "3.10.14"
  }
 },
 "nbformat": 4,
 "nbformat_minor": 2
}
